{
 "cells": [
  {
   "cell_type": "markdown",
   "source": [
    "List of Publications\n",
    "==================="
   ],
   "metadata": {
    "collapsed": false
   }
  },
  {
   "cell_type": "code",
   "execution_count": 20,
   "metadata": {
    "ExecuteTime": {
     "start_time": "2023-04-28T14:48:38.871405Z",
     "end_time": "2023-04-28T14:48:39.447825Z"
    },
    "tags": [
     "remove-input"
    ]
   },
   "outputs": [
    {
     "data": {
      "text/plain": "<IPython.core.display.Markdown object>",
      "text/markdown": "* The application of the open pharmacological concepts triple store (Open PHACTS) to support drug discovery research (<a href='https://doi.org/10.1371/JOURNAL.PONE.0115460' target='_blank'><img src='240px-DOI_logo.svg.png' alt='DOI' height='20'></a>, <a href='https://www.wikidata.org/wiki/Q19845588' target='_blank'><img src='320px-Wikidata-logo.svg' alt='Wikidata'></a>)\n* Identifying sigma factors in Mycobacterium smegmatis by comparative genomic analysis (<a href='https://doi.org/10.1016/J.TIM.2005.08.009' target='_blank'><img src='240px-DOI_logo.svg.png' alt='DOI' height='20'></a>, <a href='https://www.wikidata.org/wiki/Q19857208' target='_blank'><img src='320px-Wikidata-logo.svg' alt='Wikidata'></a>)\n* The public road to high-quality curated biological pathways (<a href='https://doi.org/10.1016/J.DRUDIS.2008.06.013' target='_blank'><img src='240px-DOI_logo.svg.png' alt='DOI' height='20'></a>, <a href='https://www.wikidata.org/wiki/Q19862849' target='_blank'><img src='320px-Wikidata-logo.svg' alt='Wikidata'></a>)\n* Centralizing content and distributing labor: a community model for curating the very long tail of microbial genomes (<a href='https://doi.org/10.1093/DATABASE/BAW028' target='_blank'><img src='240px-DOI_logo.svg.png' alt='DOI' height='20'></a>, <a href='https://www.wikidata.org/wiki/Q21503281' target='_blank'><img src='320px-Wikidata-logo.svg' alt='Wikidata'></a>)\n* Centralizing content and distributing labor: a community model for curating the very long tail of microbial genomes (<a href='https://doi.org/10.1101/031286' target='_blank'><img src='240px-DOI_logo.svg.png' alt='DOI' height='20'></a>, <a href='https://www.wikidata.org/wiki/Q21503281' target='_blank'><img src='320px-Wikidata-logo.svg' alt='Wikidata'></a>)\n* Wikidata: A platform for data integration and dissemination for the life sciences and beyond (<a href='https://doi.org/10.1101/031971' target='_blank'><img src='240px-DOI_logo.svg.png' alt='DOI' height='20'></a>, <a href='https://www.wikidata.org/wiki/Q21503284' target='_blank'><img src='320px-Wikidata-logo.svg' alt='Wikidata'></a>)\n* Scientific Lenses to Support Multiple Views over Linked Chemistry Data (<a href='https://doi.org/10.1007/978-3-319-11964-9_7' target='_blank'><img src='240px-DOI_logo.svg.png' alt='DOI' height='20'></a>, <a href='https://www.wikidata.org/wiki/Q23034460' target='_blank'><img src='320px-Wikidata-logo.svg' alt='Wikidata'></a>)\n* Wikidata as a semantic framework for the Gene Wiki initiative (<a href='https://doi.org/10.1093/DATABASE/BAW015' target='_blank'><img src='240px-DOI_logo.svg.png' alt='DOI' height='20'></a>, <a href='https://www.wikidata.org/wiki/Q23712646' target='_blank'><img src='320px-Wikidata-logo.svg' alt='Wikidata'></a>)\n* WikiPathways: capturing the full diversity of pathway knowledge (<a href='https://doi.org/10.1093/NAR/GKV1024' target='_blank'><img src='240px-DOI_logo.svg.png' alt='DOI' height='20'></a>, <a href='https://www.wikidata.org/wiki/Q24082733' target='_blank'><img src='320px-Wikidata-logo.svg' alt='Wikidata'></a>)\n* Using the Semantic Web for Rapid Integration of WikiPathways with Other Biological Online Data Resources (<a href='https://doi.org/10.1371/JOURNAL.PCBI.1004989' target='_blank'><img src='240px-DOI_logo.svg.png' alt='DOI' height='20'></a>, <a href='https://www.wikidata.org/wiki/Q26261238' target='_blank'><img src='320px-Wikidata-logo.svg' alt='Wikidata'></a>)\n* The ChEMBL database as linked open data (<a href='https://doi.org/10.1186/1758-2946-5-23' target='_blank'><img src='240px-DOI_logo.svg.png' alt='DOI' height='20'></a>, <a href='https://www.wikidata.org/wiki/Q27062334' target='_blank'><img src='320px-Wikidata-logo.svg' alt='Wikidata'></a>)\n* Applying linked data approaches to pharmacology: Architectural decisions and implementation (<a href='https://doi.org/10.3233/SW-2012-0088' target='_blank'><img src='240px-DOI_logo.svg.png' alt='DOI' height='20'></a>, <a href='https://www.wikidata.org/wiki/Q27144390' target='_blank'><img src='320px-Wikidata-logo.svg' alt='Wikidata'></a>)\n* Pathway enrichment based on text mining and its validation on carotenoid and vitamin A metabolism (<a href='https://doi.org/10.1089/OMI.2009.0029' target='_blank'><img src='240px-DOI_logo.svg.png' alt='DOI' height='20'></a>, <a href='https://www.wikidata.org/wiki/Q27436295' target='_blank'><img src='320px-Wikidata-logo.svg' alt='Wikidata'></a>)\n* The FAIR Guiding Principles for scientific data management and stewardship (<a href='https://doi.org/10.1038/SDATA.2016.18' target='_blank'><img src='240px-DOI_logo.svg.png' alt='DOI' height='20'></a>, <a href='https://www.wikidata.org/wiki/Q27942822' target='_blank'><img src='320px-Wikidata-logo.svg' alt='Wikidata'></a>)\n* Nature Europe site should highlight most productive countries. (<a href='https://doi.org/10.1038/465685E' target='_blank'><img src='240px-DOI_logo.svg.png' alt='DOI' height='20'></a>, <a href='https://www.wikidata.org/wiki/Q27943318' target='_blank'><img src='320px-Wikidata-logo.svg' alt='Wikidata'></a>)\n* Opportunities and challenges presented by Wikidata in the context of biocuration (<a href='https://doi.org/N/A' target='_blank'><img src='240px-DOI_logo.svg.png' alt='DOI' height='20'></a>, <a href='https://www.wikidata.org/wiki/Q27975935' target='_blank'><img src='320px-Wikidata-logo.svg' alt='Wikidata'></a>)\n* WikiGenomes: an open Web application for community consumption and curation of gene annotation data in Wikidata (<a href='https://doi.org/10.1093/DATABASE/BAX025' target='_blank'><img src='240px-DOI_logo.svg.png' alt='DOI' height='20'></a>, <a href='https://www.wikidata.org/wiki/Q28529449' target='_blank'><img src='320px-Wikidata-logo.svg' alt='Wikidata'></a>)\n* WikiGenomes: an open Web application for community consumption and curation of gene annotation data in Wikidata (<a href='https://doi.org/10.1101/102046' target='_blank'><img src='240px-DOI_logo.svg.png' alt='DOI' height='20'></a>, <a href='https://www.wikidata.org/wiki/Q28529449' target='_blank'><img src='320px-Wikidata-logo.svg' alt='Wikidata'></a>)\n* The role of bioinformatics in pathway curation (<a href='https://doi.org/10.1007/S12263-008-0098-X' target='_blank'><img src='240px-DOI_logo.svg.png' alt='DOI' height='20'></a>, <a href='https://www.wikidata.org/wiki/Q28756415' target='_blank'><img src='320px-Wikidata-logo.svg' alt='Wikidata'></a>)\n* The distinction between linguistic and conceptual semantics in medical terminology and its implication for NLP-based knowledge acquisition. (<a href='https://doi.org/N/A' target='_blank'><img src='240px-DOI_logo.svg.png' alt='DOI' height='20'></a>, <a href='https://www.wikidata.org/wiki/Q31270287' target='_blank'><img src='320px-Wikidata-logo.svg' alt='Wikidata'></a>)\n* WikiPathways: a multifaceted pathway database bridging metabolomics to other omics research (<a href='https://doi.org/10.1093/NAR/GKX1064' target='_blank'><img src='240px-DOI_logo.svg.png' alt='DOI' height='20'></a>, <a href='https://www.wikidata.org/wiki/Q42896569' target='_blank'><img src='320px-Wikidata-logo.svg' alt='Wikidata'></a>)\n* Using Shape Expressions (ShEx) to Share RDF Data Models and to Guide Curation with Rigorous Validation (<a href='https://doi.org/10.5281/ZENODO.1214521' target='_blank'><img src='240px-DOI_logo.svg.png' alt='DOI' height='20'></a>, <a href='https://www.wikidata.org/wiki/Q51613194' target='_blank'><img src='320px-Wikidata-logo.svg' alt='Wikidata'></a>)\n* Measuring impact in online resources with the CInumber (the CitedIn Number for online impact) (<a href='https://doi.org/10.1038/NPRE.2011.6037.1' target='_blank'><img src='240px-DOI_logo.svg.png' alt='DOI' height='20'></a>, <a href='https://www.wikidata.org/wiki/Q54751130' target='_blank'><img src='320px-Wikidata-logo.svg' alt='Wikidata'></a>)\n* Acknowledging contributions to online expert assistance (<a href='https://doi.org/10.1038/NPRE.2011.6041.1' target='_blank'><img src='240px-DOI_logo.svg.png' alt='DOI' height='20'></a>, <a href='https://www.wikidata.org/wiki/Q55422989' target='_blank'><img src='320px-Wikidata-logo.svg' alt='Wikidata'></a>)\n* Acknowledging contributions to online expert assistance (<a href='https://doi.org/10.1038/NPRE.2011.6043.1' target='_blank'><img src='240px-DOI_logo.svg.png' alt='DOI' height='20'></a>, <a href='https://www.wikidata.org/wiki/Q55422991' target='_blank'><img src='320px-Wikidata-logo.svg' alt='Wikidata'></a>)\n* Exposing WikiPathways as Linked Open Data (<a href='https://doi.org/10.1038/NPRE.2011.6679.1' target='_blank'><img src='240px-DOI_logo.svg.png' alt='DOI' height='20'></a>, <a href='https://www.wikidata.org/wiki/Q56160764' target='_blank'><img src='320px-Wikidata-logo.svg' alt='Wikidata'></a>)\n* Explicit interaction information from WikiPathways in RDF facilitates drug discovery in the Open PHACTS Discovery Platform (<a href='https://doi.org/10.12688/F1000RESEARCH.13197.2' target='_blank'><img src='240px-DOI_logo.svg.png' alt='DOI' height='20'></a>, <a href='https://www.wikidata.org/wiki/Q57337377' target='_blank'><img src='320px-Wikidata-logo.svg' alt='Wikidata'></a>)\n* Wikidata as an intuitive resource towards semantic data modeling in data FAIRification (<a href='https://doi.org/N/A' target='_blank'><img src='240px-DOI_logo.svg.png' alt='DOI' height='20'></a>, <a href='https://www.wikidata.org/wiki/Q59925812' target='_blank'><img src='320px-Wikidata-logo.svg' alt='Wikidata'></a>)\n* Addendum: The FAIR Guiding Principles for scientific data management and stewardship (<a href='https://doi.org/10.1038/S41597-019-0009-6' target='_blank'><img src='240px-DOI_logo.svg.png' alt='DOI' height='20'></a>, <a href='https://www.wikidata.org/wiki/Q64077786' target='_blank'><img src='320px-Wikidata-logo.svg' alt='Wikidata'></a>)\n* Using Shape Expressions (ShEx) to Share RDF Data Models and to Guide Curation with Rigorous Validation (<a href='https://doi.org/10.1007/978-3-030-21348-0_39' target='_blank'><img src='240px-DOI_logo.svg.png' alt='DOI' height='20'></a>, <a href='https://www.wikidata.org/wiki/Q64225211' target='_blank'><img src='320px-Wikidata-logo.svg' alt='Wikidata'></a>)\n* Wikidata as a linked-data hub for Biodiversity data (<a href='https://doi.org/10.3897/BISS.3.35206' target='_blank'><img src='240px-DOI_logo.svg.png' alt='DOI' height='20'></a>, <a href='https://www.wikidata.org/wiki/Q66058247' target='_blank'><img src='320px-Wikidata-logo.svg' alt='Wikidata'></a>)\n* FAIR Principles: Interpretations and Implementation Considerations (<a href='https://doi.org/10.1162/DINT_R_00024' target='_blank'><img src='240px-DOI_logo.svg.png' alt='DOI' height='20'></a>, <a href='https://www.wikidata.org/wiki/Q76394974' target='_blank'><img src='320px-Wikidata-logo.svg' alt='Wikidata'></a>)\n* Wikidata as a knowledge graph for the life sciences (<a href='https://doi.org/10.7554/ELIFE.52614' target='_blank'><img src='240px-DOI_logo.svg.png' alt='DOI' height='20'></a>, <a href='https://www.wikidata.org/wiki/Q87830400' target='_blank'><img src='320px-Wikidata-logo.svg' alt='Wikidata'></a>)\n* WikiPathways: connecting communities (<a href='https://doi.org/10.1093/NAR/GKAA1024' target='_blank'><img src='240px-DOI_logo.svg.png' alt='DOI' height='20'></a>, <a href='https://www.wikidata.org/wiki/Q102205677' target='_blank'><img src='320px-Wikidata-logo.svg' alt='Wikidata'></a>)\n* A protocol for adding knowledge to Wikidata: aligning resources on human coronaviruses (<a href='https://doi.org/10.1186/S12915-020-00940-Y' target='_blank'><img src='240px-DOI_logo.svg.png' alt='DOI' height='20'></a>, <a href='https://www.wikidata.org/wiki/Q105037759' target='_blank'><img src='320px-Wikidata-logo.svg' alt='Wikidata'></a>)\n* Knowledge graphs and wikidata subsetting (<a href='https://doi.org/10.37044/OSF.IO/WU9ET' target='_blank'><img src='240px-DOI_logo.svg.png' alt='DOI' height='20'></a>, <a href='https://www.wikidata.org/wiki/Q106697289' target='_blank'><img src='320px-Wikidata-logo.svg' alt='Wikidata'></a>)\n* Participative Decision Making and the Sharing of Benefits: Laws, ethics, and data protection for building extended global communities (<a href='https://doi.org/10.3897/BISS.5.75168' target='_blank'><img src='240px-DOI_logo.svg.png' alt='DOI' height='20'></a>, <a href='https://www.wikidata.org/wiki/Q108863366' target='_blank'><img src='320px-Wikidata-logo.svg' alt='Wikidata'></a>)\n* Complex Portal 2022: new curation frontiers (<a href='https://doi.org/10.1093/NAR/GKAB991' target='_blank'><img src='240px-DOI_logo.svg.png' alt='DOI' height='20'></a>, <a href='https://www.wikidata.org/wiki/Q109348309' target='_blank'><img src='320px-Wikidata-logo.svg' alt='Wikidata'></a>)\n* Ten simple rules for creating reusable pathway models for computational analysis and visualization (<a href='https://doi.org/10.1371/JOURNAL.PCBI.1009226' target='_blank'><img src='240px-DOI_logo.svg.png' alt='DOI' height='20'></a>, <a href='https://www.wikidata.org/wiki/Q111107460' target='_blank'><img src='320px-Wikidata-logo.svg' alt='Wikidata'></a>)\n* Understanding signaling and metabolic paths using semantified and harmonized information about biological interactions (<a href='https://doi.org/10.1371/JOURNAL.PONE.0263057' target='_blank'><img src='240px-DOI_logo.svg.png' alt='DOI' height='20'></a>, <a href='https://www.wikidata.org/wiki/Q111656837' target='_blank'><img src='320px-Wikidata-logo.svg' alt='Wikidata'></a>)\n* Using Crowd-sourcing Platforms to Increase and Spread Knowledge on the Biodiversity in Sub-Saharan Africa (<a href='https://doi.org/10.3897/BISS.6.93803' target='_blank'><img src='240px-DOI_logo.svg.png' alt='DOI' height='20'></a>, <a href='https://www.wikidata.org/wiki/Q113585418' target='_blank'><img src='320px-Wikidata-logo.svg' alt='Wikidata'></a>)\n* Fairmetrics/Metrics: Proposed Fair Metrics And Results Of The Metrics Evaluation Questionnaire (<a href='https://doi.org/10.5281/ZENODO.1205235' target='_blank'><img src='240px-DOI_logo.svg.png' alt='DOI' height='20'></a>, <a href='https://www.wikidata.org/wiki/Q113634851' target='_blank'><img src='320px-Wikidata-logo.svg' alt='Wikidata'></a>)\n"
     },
     "metadata": {},
     "output_type": "display_data"
    }
   ],
   "source": [
    "from wikidataintegrator import wdi_core\n",
    "from IPython.display import Markdown, display\n",
    "\n",
    "# Set up the SPARQL endpoint URL\n",
    "sparql = \"https://query.wikidata.org/sparql\"\n",
    "\n",
    "# Set up the SPARQL query\n",
    "query = \"\"\"\n",
    "SELECT ?publication ?publicationLabel ?doi\n",
    "WHERE\n",
    "{\n",
    "  ?publication wdt:P50 wd:Q19845625.\n",
    "  ?publication wdt:P31 wd:Q13442814.\n",
    "  OPTIONAL { ?publication wdt:P356 ?doi. }\n",
    "  SERVICE wikibase:label { bd:serviceParam wikibase:language \"en\". }\n",
    "}\n",
    "\"\"\"\n",
    "\n",
    "results = wdi_core.WDItemEngine.execute_sparql_query(query, as_dataframe=False, endpoint=sparql)\n",
    "\n",
    "# Print the list of publications with their DOI and QID\n",
    "\n",
    "md = \"\"\n",
    "for result in results[\"results\"][\"bindings\"]:\n",
    "    publication_name = result[\"publicationLabel\"][\"value\"]\n",
    "    publication_doi = result[\"doi\"][\"value\"] if \"doi\" in result else \"N/A\"\n",
    "    publication_qid = result[\"publication\"][\"value\"].split(\"/\")[-1]\n",
    "    if publication_doi and publication_qid:\n",
    "        md += f\"* {publication_name} (<a href='https://doi.org/{publication_doi}' target='_blank'><img src='240px-DOI_logo.svg.png' alt='DOI' height='20'></a>, <a href='https://www.wikidata.org/wiki/{publication_qid}' target='_blank'><img src='320px-Wikidata-logo.svg' alt='Wikidata'></a>)\\n\"\n",
    "    elif publication_qid:\n",
    "        md += f\"* {publication_name} (<a href='https://www.wikidata.org/wiki/{publication_qid}' target='_blank'><img src='320px-Wikidata-logo.svg' alt='Wikidata'></a>)\\n\"\n",
    "    else:\n",
    "        md += f\"* {publication_name}\\n\"\n",
    "display(Markdown(md))"
   ]
  },
  {
   "cell_type": "code",
   "execution_count": null,
   "outputs": [],
   "source": [],
   "metadata": {
    "collapsed": false
   }
  }
 ],
 "metadata": {
  "celltoolbar": "Tags",
  "kernelspec": {
   "display_name": "Python 3 (ipykernel)",
   "language": "python",
   "name": "python3"
  },
  "language_info": {
   "codemirror_mode": {
    "name": "ipython",
    "version": 3
   },
   "file_extension": ".py",
   "mimetype": "text/x-python",
   "name": "python",
   "nbconvert_exporter": "python",
   "pygments_lexer": "ipython3",
   "version": "3.9.6"
  }
 },
 "nbformat": 4,
 "nbformat_minor": 1
}
