{
 "cells": [
  {
   "cell_type": "code",
   "execution_count": 1,
   "metadata": {
    "collapsed": true,
    "ExecuteTime": {
     "end_time": "2023-05-21T20:53:14.445974Z",
     "start_time": "2023-05-21T20:53:12.020857Z"
    }
   },
   "outputs": [
    {
     "name": "stderr",
     "output_type": "stream",
     "text": [
      "remote: \n",
      "remote: GitHub found 1 vulnerability on Micelio/micelio.github.io's default branch (1 moderate). To find out more, visit:        \n",
      "remote:      https://github.com/Micelio/micelio.github.io/security/dependabot/1        \n",
      "remote: \n",
      "To github.com:Micelio/micelio.github.io.git\n",
      "   187f170..a1043e3  gh-pages -> gh-pages\n"
     ]
    }
   ],
   "source": [
    "from ghp_import import ghp_import\n",
    "ghp_import(\"_build/html\", nojekyll=True, push=True, force=True)"
   ]
  },
  {
   "cell_type": "code",
   "execution_count": 3,
   "outputs": [
    {
     "name": "stdout",
     "output_type": "stream",
     "text": [
      "Collecting ghp-import\r\n",
      "  Using cached ghp_import-2.1.0-py3-none-any.whl (11 kB)\r\n",
      "Requirement already satisfied: python-dateutil>=2.8.1 in /Users/andra/projects/wikiproject-biodiversity/venv/lib/python3.9/site-packages (from ghp-import) (2.8.2)\r\n",
      "Requirement already satisfied: six>=1.5 in /Users/andra/projects/wikiproject-biodiversity/venv/lib/python3.9/site-packages (from python-dateutil>=2.8.1->ghp-import) (1.16.0)\r\n",
      "Installing collected packages: ghp-import\r\n",
      "Successfully installed ghp-import-2.1.0\r\n",
      "\r\n",
      "\u001B[1m[\u001B[0m\u001B[34;49mnotice\u001B[0m\u001B[1;39;49m]\u001B[0m\u001B[39;49m A new release of pip available: \u001B[0m\u001B[31;49m22.3.1\u001B[0m\u001B[39;49m -> \u001B[0m\u001B[32;49m23.1.2\u001B[0m\r\n",
      "\u001B[1m[\u001B[0m\u001B[34;49mnotice\u001B[0m\u001B[1;39;49m]\u001B[0m\u001B[39;49m To update, run: \u001B[0m\u001B[32;49mpython -m pip install --upgrade pip\u001B[0m\r\n"
     ]
    }
   ],
   "source": [
    "!pip3 install ghp-import"
   ],
   "metadata": {
    "collapsed": false,
    "ExecuteTime": {
     "start_time": "2023-05-05T12:55:23.312201Z",
     "end_time": "2023-05-05T12:55:25.356349Z"
    }
   }
  },
  {
   "cell_type": "code",
   "execution_count": null,
   "outputs": [],
   "source": [],
   "metadata": {
    "collapsed": false
   }
  }
 ],
 "metadata": {
  "kernelspec": {
   "display_name": "Python 3",
   "language": "python",
   "name": "python3"
  },
  "language_info": {
   "codemirror_mode": {
    "name": "ipython",
    "version": 2
   },
   "file_extension": ".py",
   "mimetype": "text/x-python",
   "name": "python",
   "nbconvert_exporter": "python",
   "pygments_lexer": "ipython2",
   "version": "2.7.6"
  }
 },
 "nbformat": 4,
 "nbformat_minor": 0
}
